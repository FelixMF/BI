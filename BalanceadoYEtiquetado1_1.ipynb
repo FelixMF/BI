{
  "nbformat": 4,
  "nbformat_minor": 0,
  "metadata": {
    "colab": {
      "provenance": []
    },
    "kernelspec": {
      "name": "python3",
      "display_name": "Python 3"
    },
    "language_info": {
      "name": "python"
    }
  },
  "cells": [
    {
      "cell_type": "code",
      "execution_count": null,
      "metadata": {
        "colab": {
          "base_uri": "https://localhost:8080/"
        },
        "id": "HncgGiyYL0mb",
        "outputId": "f7a1dbef-a546-43c8-d8f4-0408cf5779f8"
      },
      "outputs": [
        {
          "output_type": "stream",
          "name": "stdout",
          "text": [
            "Archivo equilibrado guardado como 'factVentasEtiquetados_balanced.csv'\n"
          ]
        }
      ],
      "source": [
        "import pandas as pd\n",
        "\n",
        "try:\n",
        "    # Cargar el archivo CSV\n",
        "    df = pd.read_csv(\"factVentasEtiquetados.csv\", encoding='latin-1', delimiter=';')\n",
        "\n",
        "    # Cambiar las etiquetas según condiciones\n",
        "    df.loc[df['etiquetaNombreFamilia'] == 198, 'etiqueta'] = 1\n",
        "    df.loc[df['etiquetaNombreFamilia'] == 200, 'etiqueta'] = -1\n",
        "\n",
        "    # Filtrar filas con etiquetas 1 y -1\n",
        "    filtered_df = df[df['etiqueta'].isin([1, -1])]\n",
        "\n",
        "    # Separar las filas según su etiqueta\n",
        "    df_1 = filtered_df[filtered_df['etiqueta'] == 1]\n",
        "    df_minus_1 = filtered_df[filtered_df['etiqueta'] == -1]\n",
        "\n",
        "    # Determinar cuál es el dataframe más pequeño\n",
        "    min_count = min(len(df_1), len(df_minus_1))\n",
        "\n",
        "    # Muestrear aleatoriamente el dataframe más grande para que coincida en tamaño con el más pequeño\n",
        "    sampled_df = pd.concat([df_1.sample(n=min_count, replace=True, random_state=1),\n",
        "                            df_minus_1.sample(n=min_count, replace=True, random_state=1)])\n",
        "\n",
        "    # Guardar el DataFrame modificado en un nuevo archivo CSV\n",
        "    sampled_df.to_csv('factVentasEtiquetados_balanced.csv', index=False)\n",
        "\n",
        "    print(\"Archivo equilibrado guardado como 'factVentasEtiquetados_balanced.csv'\")\n",
        "except pd.errors.ParserError:\n",
        "    print(\"Error al analizar el archivo CSV.\")\n",
        "except FileNotFoundError:\n",
        "    print(\"El archivo 'factVentasEtiquetados.csv' no se encontró.\")\n",
        "except KeyError as e:\n",
        "    print(f\"La columna {e} no se encontró en el archivo CSV.\")\n",
        "except Exception as e:\n",
        "    print(f\"Ocurrió un error inesperado: {e}\")\n"
      ]
    }
  ]
}