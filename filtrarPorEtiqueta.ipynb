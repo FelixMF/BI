{
  "nbformat": 4,
  "nbformat_minor": 0,
  "metadata": {
    "colab": {
      "provenance": []
    },
    "kernelspec": {
      "name": "python3",
      "display_name": "Python 3"
    },
    "language_info": {
      "name": "python"
    }
  },
  "cells": [
    {
      "cell_type": "code",
      "execution_count": null,
      "metadata": {
        "colab": {
          "base_uri": "https://localhost:8080/"
        },
        "id": "1oAuoCpL41V6",
        "outputId": "efec99f7-26de-41ee-ead7-7e9fa156a557"
      },
      "outputs": [
        {
          "output_type": "stream",
          "name": "stdout",
          "text": [
            "Archivo filtrado guardado como 'factVentasEtiquetados_filtrados.csv'\n"
          ]
        }
      ],
      "source": [
        "import pandas as pd\n",
        "\n",
        "try:\n",
        "    # Cargar el archivo CSV\n",
        "    df = pd.read_csv(\"factVentasEtiquetados.csv\", encoding='latin-1', delimiter=';')\n",
        "\n",
        "    # Filtrar las filas donde etiquetaNombreFamilia es 198 o 200\n",
        "    filtered_df = df[df['etiquetaNombreFamilia'].isin([198, 200])]\n",
        "\n",
        "    # Guardar el nuevo DataFrame filtrado en un nuevo archivo CSV\n",
        "    filtered_df.to_csv('factVentasEtiquetados_filtrados.csv', index=False)\n",
        "\n",
        "    print(\"Archivo filtrado guardado como 'factVentasEtiquetados_filtrados.csv'\")\n",
        "except pd.errors.ParserError:\n",
        "    print(\"Error al analizar el archivo CSV.\")\n",
        "except FileNotFoundError:\n",
        "    print(\"El archivo 'factVentasEtiquetados.csv' no se encontró.\")\n",
        "except Exception as e:\n",
        "    print(f\"Ocurrió un error inesperado: {e}\")\n"
      ]
    }
  ]
}