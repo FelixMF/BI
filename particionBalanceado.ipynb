{
  "nbformat": 4,
  "nbformat_minor": 0,
  "metadata": {
    "colab": {
      "provenance": []
    },
    "kernelspec": {
      "name": "python3",
      "display_name": "Python 3"
    },
    "language_info": {
      "name": "python"
    }
  },
  "cells": [
    {
      "cell_type": "code",
      "execution_count": null,
      "metadata": {
        "colab": {
          "base_uri": "https://localhost:8080/"
        },
        "id": "WRwWIfYFRHJT",
        "outputId": "47845d0c-f608-4c2c-ef60-28b0231aa131"
      },
      "outputs": [
        {
          "output_type": "stream",
          "name": "stdout",
          "text": [
            "Etiquetas únicas: [ 1 -1]\n",
            "Etiquetas únicas: [ 1 -1]\n"
          ]
        }
      ],
      "source": [
        "import pandas as pd\n",
        "import numpy as np\n",
        "import random\n",
        "\n",
        "# Cargar datos\n",
        "df = pd.read_csv(\"factVentasEtiquetados_balanceado.csv\", encoding='latin-1', delimiter=';')\n",
        "\n",
        "# Función para obtener etiquetas únicas\n",
        "def obtener_etiquetas_unicas(df, columna_etiqueta):\n",
        "    etiquetas = df[columna_etiqueta]\n",
        "    print(\"Etiquetas únicas:\", etiquetas.unique() if etiquetas is not None else \"No se encontraron etiquetas\")\n",
        "    return etiquetas.unique()\n",
        "\n",
        "# Función para segmentar datos en matrices\n",
        "def segmentar_en_matrices(df, etiqueta):\n",
        "    etiquetas = obtener_etiquetas_unicas(df, etiqueta)\n",
        "    print(\"Etiquetas únicas:\", etiquetas)\n",
        "    matrices = {}\n",
        "    for etiqueta_unica in etiquetas:\n",
        "        matriz = df[df[etiqueta] == etiqueta_unica]\n",
        "        matrices[etiqueta_unica] = matriz\n",
        "    return matrices\n",
        "\n",
        "# Segmentar los datos en matrices\n",
        "matrices = segmentar_en_matrices(df, 'etiqueta')\n",
        "\n",
        "# Asignar matrices de manera segura verificando si las etiquetas existen\n",
        "matriz1 = matrices.get(1)\n",
        "matriz2 = matrices.get(2)\n",
        "matriz3 = matrices.get(3)\n",
        "\n",
        "# Concatenar todas las matrices en una sola\n",
        "def concatenar_matrices(*matrices):\n",
        "    matrices_validas = [matriz for matriz in matrices if matriz is not None]\n",
        "    if matrices_validas:\n",
        "        return pd.concat(matrices_validas, axis=0)\n",
        "    else:\n",
        "        return pd.DataFrame()\n",
        "\n",
        "# Concatenar todas las matrices en una sola\n",
        "datos = concatenar_matrices(matriz1, matriz2, matriz3)\n",
        "\n",
        "# Mezclar los datos\n",
        "datos_mezclados = datos.sample(frac=1, random_state=42).reset_index(drop=True)\n",
        "\n",
        "# Dividir los datos en entrenamiento (80%) y prueba (20%)\n",
        "tamaño_entrenamiento = int(len(datos_mezclados) * 0.8)\n",
        "entrenamiento = datos_mezclados.iloc[:tamaño_entrenamiento]\n",
        "prueba = datos_mezclados.iloc[tamaño_entrenamiento:]\n",
        "\n",
        "# Guardar los conjuntos de entrenamiento y prueba en archivos CSV\n",
        "entrenamiento.to_csv(\"Training.csv\", index=False)\n",
        "prueba.to_csv(\"Test.csv\", index=False)\n"
      ]
    }
  ]
}